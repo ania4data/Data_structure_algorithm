{
 "cells": [
  {
   "cell_type": "code",
   "execution_count": 26,
   "metadata": {},
   "outputs": [
    {
     "data": {
      "text/plain": [
       "366"
      ]
     },
     "execution_count": 26,
     "metadata": {},
     "output_type": "execute_result"
    }
   ],
   "source": [
    "daysofmonths = [31, 28, 31, 30, 31, 30, 31, 31, 30, 31, 30, 31]\n",
    "daysofmonths_leap = [31, 29, 31, 30, 31, 30, 31, 31, 30, 31, 30, 31]\n",
    "\n",
    "def isleapyear(year):\n",
    "    if(year % 4 != 0):\n",
    "        return 365\n",
    "    elif(year % 100 != 0):\n",
    "        return 366\n",
    "    elif(year % 400 != 0):\n",
    "        return 365\n",
    "    else:\n",
    "        return 366\n",
    "\n",
    "isleapyear(2012)"
   ]
  },
  {
   "cell_type": "code",
   "execution_count": 41,
   "metadata": {},
   "outputs": [],
   "source": [
    "def check_dates(y1, m1, d1, y2, m2, d2):\n",
    "    if(y1 < 1582 or y2 < 1582):\n",
    "        return False\n",
    "    if(m1 < 1 or m1 > 12 or m2 < 1 or m2 > 12):\n",
    "        return False\n",
    "    if(isleapyear(y1) == 365 and (d1 < 1 or d1 > daysofmonths[m1])):\n",
    "        return False\n",
    "    if(isleapyear(y1) == 366 and (d1 < 1 or d1 > daysofmonths_leap[m1])):\n",
    "        return False\n",
    "    if(isleapyear(y2) == 365 and (d2 < 1 or d2 > daysofmonths[m2])):\n",
    "        return False\n",
    "    if(isleapyear(y2) == 366 and (d2 < 1 or d2 > daysofmonths_leap[m2])):\n",
    "        return False\n",
    "    if(y1 > y2):\n",
    "        return False\n",
    "    elif(y1 == y2):\n",
    "        if(m1 > m2):\n",
    "            return False\n",
    "        if(m1 == m2):\n",
    "            if(d1 > d2):\n",
    "                return False\n",
    "    return True"
   ]
  },
  {
   "cell_type": "code",
   "execution_count": 44,
   "metadata": {},
   "outputs": [],
   "source": [
    "def daysbetweendates(y1, m1, d1, y2, m2, d2):\n",
    "    m1 = m1 - 1 #get index zero\n",
    "    m2 = m2 - 1\n",
    "    if(not check_dates(y1, m1, d1, y2, m2, d2)):\n",
    "        print('not ok dates, rule date1 < date2')\n",
    "        print('not ok dates, rule check month input')\n",
    "        return None\n",
    "    else:\n",
    "        year_list = list(range(y1, y2+1))\n",
    "        daysofmonths = [31, 28, 31, 30, 31, 30, 31, 31, 30, 31, 30, 31]\n",
    "        daysofmonths_leap = [31, 29, 31, 30, 31, 30, 31, 31, 30, 31, 30, 31]\n",
    "        year_days = []\n",
    "        year_day_between_sum = 0\n",
    "        m1_day_between_sum = 0\n",
    "        d1_day_between_sum = 0\n",
    "        m2_day_between_sum = 0\n",
    "        d2_day_between_sum = 0\n",
    "        m_d_day_sum = 0\n",
    "\n",
    "        for year in year_list:\n",
    "            year_days.append(isleapyear(year))\n",
    "\n",
    "        if(len(year_list) > 2):\n",
    "            year_day_between_sum = sum(year_days[1: -1])\n",
    "        if(len(year_list) == 2):\n",
    "            if(year_days[0] == 365):\n",
    "                temp = daysofmonths\n",
    "            else:\n",
    "                temp = daysofmonths_leap\n",
    "\n",
    "            m1_day_between_sum = sum(temp[m1+1:])\n",
    "            d1_day_between_sum = temp[m1] - d1    \n",
    "\n",
    "            if(year_days[-1] == 365):\n",
    "                temp = daysofmonths\n",
    "            else:\n",
    "                temp = daysofmonths_leap\n",
    "\n",
    "            m2_day_between_sum = sum(temp[:m2])                \n",
    "            d2_day_between_sum = d2\n",
    "\n",
    "\n",
    "        if(len(year_list) == 1):   \n",
    "            if(year_days[0] == 365):\n",
    "                temp = daysofmonths\n",
    "            else:\n",
    "                temp = daysofmonths_leap        \n",
    "            if(m2 > m1):\n",
    "                m_d_day_sum = sum(temp[m1+1: m2]) + (temp[m1] - d1) + d2\n",
    "            if(m2 == m1):\n",
    "                m_d_day_sum = d2 - d1\n",
    "\n",
    "        total_days = year_day_between_sum + m1_day_between_sum + d1_day_between_sum\\\n",
    "        + m2_day_between_sum + d2_day_between_sum + m_d_day_sum\n",
    "        return  total_days\n",
    "        \n",
    "    "
   ]
  },
  {
   "cell_type": "code",
   "execution_count": 45,
   "metadata": {},
   "outputs": [
    {
     "name": "stdout",
     "output_type": "stream",
     "text": [
      "not ok dates, rule date1 < date2\n",
      "not ok dates, rule check month input\n"
     ]
    }
   ],
   "source": [
    "daysbetweendates(2012, 6, 29, 2013, 6, 31)"
   ]
  },
  {
   "cell_type": "code",
   "execution_count": 28,
   "metadata": {},
   "outputs": [
    {
     "name": "stdout",
     "output_type": "stream",
     "text": [
      "Congratulations! Your daysBetweenDates\n",
      "function is working correctly!\n"
     ]
    }
   ],
   "source": [
    "def testDaysBetweenDates():\n",
    "    \n",
    "    # test same day\n",
    "    assert(daysbetweendates(2017, 12, 30,\n",
    "                              2017, 12, 30) == 0)\n",
    "    # test adjacent days\n",
    "    assert(daysbetweendates(2017, 12, 30, \n",
    "                              2017, 12, 31) == 1)\n",
    "    # test full year difference\n",
    "    assert(daysbetweendates(2012, 6, 29,\n",
    "                              2013, 6, 29)  == 365)    \n",
    "    # test new year\n",
    "    assert(daysbetweendates(2017, 12, 30, \n",
    "                              2018, 1,  1)  == 2)\n",
    "\n",
    "    print(\"Congratulations! Your daysBetweenDates\")\n",
    "    print(\"function is working correctly!\")\n",
    "    \n",
    "testDaysBetweenDates()"
   ]
  },
  {
   "cell_type": "code",
   "execution_count": 25,
   "metadata": {},
   "outputs": [
    {
     "data": {
      "text/plain": [
       "366"
      ]
     },
     "execution_count": 25,
     "metadata": {},
     "output_type": "execute_result"
    }
   ],
   "source": [
    "daysbetweendates(2012, 6, 29, 2013, 6, 29)"
   ]
  },
  {
   "cell_type": "code",
   "execution_count": 18,
   "metadata": {},
   "outputs": [
    {
     "data": {
      "text/plain": [
       "424"
      ]
     },
     "execution_count": 18,
     "metadata": {},
     "output_type": "execute_result"
    }
   ],
   "source": [
    "daysbetweendates(2000, 0, 1, 2001, 1, 5)"
   ]
  },
  {
   "cell_type": "code",
   "execution_count": 14,
   "metadata": {},
   "outputs": [
    {
     "data": {
      "text/plain": [
       "0"
      ]
     },
     "execution_count": 14,
     "metadata": {},
     "output_type": "execute_result"
    }
   ],
   "source": [
    "sum(daysofmonths[0:0])"
   ]
  },
  {
   "cell_type": "code",
   "execution_count": 13,
   "metadata": {},
   "outputs": [
    {
     "data": {
      "text/plain": [
       "[2000, 2001]"
      ]
     },
     "execution_count": 13,
     "metadata": {},
     "output_type": "execute_result"
    }
   ],
   "source": [
    "list(range(2000, 2001+1))"
   ]
  },
  {
   "cell_type": "code",
   "execution_count": 8,
   "metadata": {},
   "outputs": [
    {
     "data": {
      "text/plain": [
       "[2000, 2001, 2002, 2003, 2004, 2005]"
      ]
     },
     "execution_count": 8,
     "metadata": {},
     "output_type": "execute_result"
    }
   ],
   "source": [
    "list(range(2000, 2005+1))"
   ]
  },
  {
   "cell_type": "code",
   "execution_count": 9,
   "metadata": {},
   "outputs": [
    {
     "data": {
      "text/plain": [
       "[2001, 2002, 2003, 2004]"
      ]
     },
     "execution_count": 9,
     "metadata": {},
     "output_type": "execute_result"
    }
   ],
   "source": [
    "list(range(2000, 2005+1))[1: -1]"
   ]
  },
  {
   "cell_type": "code",
   "execution_count": null,
   "metadata": {},
   "outputs": [],
   "source": []
  }
 ],
 "metadata": {
  "kernelspec": {
   "display_name": "Python [conda env:Anaconda3]",
   "language": "python",
   "name": "conda-env-Anaconda3-py"
  },
  "language_info": {
   "codemirror_mode": {
    "name": "ipython",
    "version": 3
   },
   "file_extension": ".py",
   "mimetype": "text/x-python",
   "name": "python",
   "nbconvert_exporter": "python",
   "pygments_lexer": "ipython3",
   "version": "3.6.4"
  }
 },
 "nbformat": 4,
 "nbformat_minor": 2
}
